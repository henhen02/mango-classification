{
 "cells": [
  {
   "cell_type": "markdown",
   "metadata": {},
   "source": [
    "# Preprocessing Data\n",
    "Tahap ini dilakukan untuk mempersiapkan data yang akan diguakan dalam proses training model. Tahap ini menghasilkan folder data baru yang sudah dilakukan pemisahan data menjadi data training dan data validasi. Pemisahan data dilakukan dengan cara membagi data secara acak dengan perbandingan 80% untuk data training dan 20% untuk data validasi."
   ]
  },
  {
   "cell_type": "code",
   "execution_count": 2,
   "metadata": {},
   "outputs": [],
   "source": [
    "import shutil\n",
    "import os"
   ]
  },
  {
   "cell_type": "code",
   "execution_count": 3,
   "metadata": {},
   "outputs": [
    {
     "name": "stdout",
     "output_type": "stream",
     "text": [
      "All data splitted\n"
     ]
    }
   ],
   "source": [
    "def load_data(path_name, new_path_name):\n",
    "    data_class = {\n",
    "        'train':{}, \n",
    "        'valid':{}, \n",
    "        }\n",
    "\n",
    "    for i in os.listdir(path_name):\n",
    "        items = os.listdir(f'{path_name}/{i}')\n",
    "        test_count = int(len(items)*.2)\n",
    "        data_class['train'][i] = items[test_count:] \n",
    "        data_class['valid'][i] = items[:test_count] \n",
    "    \n",
    "    for category, cl in data_class.items():\n",
    "        for sub_class, items in cl.items():\n",
    "            for item in items:\n",
    "                destination = (f'{new_path_name}/{category}/{sub_class}/')\n",
    "                if not os.path.exists(destination):\n",
    "                    os.makedirs(destination, exist_ok=True)\n",
    "                shutil.copy(f'{path_name}/{sub_class}/{item}', destination)\n",
    "    \n",
    "    print('All data splitted')\n",
    "\n",
    "load_data('mangga_150x150', 'mangga_datasets_150x150')"
   ]
  }
 ],
 "metadata": {
  "kernelspec": {
   "display_name": "Python 3",
   "language": "python",
   "name": "python3"
  },
  "language_info": {
   "codemirror_mode": {
    "name": "ipython",
    "version": 3
   },
   "file_extension": ".py",
   "mimetype": "text/x-python",
   "name": "python",
   "nbconvert_exporter": "python",
   "pygments_lexer": "ipython3",
   "version": "3.11.6"
  }
 },
 "nbformat": 4,
 "nbformat_minor": 2
}
